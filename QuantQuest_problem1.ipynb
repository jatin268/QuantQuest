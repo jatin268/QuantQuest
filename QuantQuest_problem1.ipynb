{
 "cells": [
  {
   "cell_type": "code",
   "execution_count": 256,
   "metadata": {
    "collapsed": true
   },
   "outputs": [],
   "source": [
    "import numpy as np\n",
    "import pandas as pd\n",
    "%matplotlib inline\n",
    "import matplotlib.pyplot as plt\n",
    "import matplotlib\n",
    "matplotlib.style.use('ggplot')\n",
    "\n",
    "from __future__ import print_function\n",
    "from six.moves import cPickle as pickle\n",
    "\n",
    "from sklearn import preprocessing\n",
    "\n",
    "data1 = pd.read_csv(\"AGW.csv\")\n",
    "data = np.genfromtxt(\"AGW.csv\",delimiter=',')"
   ]
  },
  {
   "cell_type": "code",
   "execution_count": 257,
   "metadata": {
    "collapsed": true
   },
   "outputs": [],
   "source": [
    "from sklearn import datasets, linear_model\n",
    "from sklearn.metrics import mean_squared_error,mean_absolute_error, r2_score"
   ]
  },
  {
   "cell_type": "code",
   "execution_count": 258,
   "metadata": {},
   "outputs": [
    {
     "name": "stdout",
     "output_type": "stream",
     "text": [
      "(8743L, 30L)\n",
      "\n",
      " \n",
      "[ nan  nan  nan ...,  nan  nan  nan]\n"
     ]
    }
   ],
   "source": [
    "print(data.shape)\n",
    "print(\"\\n \")\n",
    "print(data[:,0])"
   ]
  },
  {
   "cell_type": "code",
   "execution_count": 259,
   "metadata": {},
   "outputs": [
    {
     "name": "stdout",
     "output_type": "stream",
     "text": [
      "(8742L, 29L)\n",
      "[[  1.26771000e+02   1.27636000e+02  -7.00000000e-01 ...,   1.27842000e+02\n",
      "   -7.75000000e-01   0.00000000e+00]\n",
      " [  1.26470000e+02   1.27313000e+02  -8.25000000e-01 ...,   1.27612000e+02\n",
      "   -7.45000000e-01   7.50000000e+01]\n",
      " [  1.26516000e+02   1.27132000e+02  -8.75000000e-01 ...,   1.27570000e+02\n",
      "   -7.15000000e-01   5.44580000e+01]\n",
      " ..., \n",
      " [  1.31839000e+02   1.31778000e+02   7.50000000e-02 ...,   1.31941000e+02\n",
      "    9.50000000e-02   4.26230000e+01]\n",
      " [  1.31824000e+02   1.31779000e+02   1.00000000e-01 ...,   1.31954000e+02\n",
      "    9.50000000e-02   4.26210000e+01]\n",
      " [  1.31873000e+02   1.31779000e+02   1.50000000e-01 ...,   1.31868000e+02\n",
      "    9.50000000e-02   4.26190000e+01]]\n"
     ]
    }
   ],
   "source": [
    "data = np.delete(data,0,1)\n",
    "data = np.delete(data,0,0)\n",
    "print(data.shape)\n",
    "print(data[:,:])"
   ]
  },
  {
   "cell_type": "code",
   "execution_count": 260,
   "metadata": {},
   "outputs": [
    {
     "name": "stdout",
     "output_type": "stream",
     "text": [
      "[  0.     75.     54.458 ...,  42.623  42.621  42.619]\n"
     ]
    }
   ],
   "source": [
    "print(data[:,-1])"
   ]
  },
  {
   "cell_type": "code",
   "execution_count": 261,
   "metadata": {
    "collapsed": true
   },
   "outputs": [],
   "source": [
    "data = np.delete(data,-1,1)"
   ]
  },
  {
   "cell_type": "code",
   "execution_count": 262,
   "metadata": {},
   "outputs": [
    {
     "name": "stdout",
     "output_type": "stream",
     "text": [
      "(8742L, 28L)\n",
      "[[  1.26771000e+02   1.27636000e+02  -7.00000000e-01 ...,   1.27231000e+02\n",
      "    1.27842000e+02  -7.75000000e-01]\n",
      " [  1.26470000e+02   1.27313000e+02  -8.25000000e-01 ...,   1.27043000e+02\n",
      "    1.27612000e+02  -7.45000000e-01]\n",
      " [  1.26516000e+02   1.27132000e+02  -8.75000000e-01 ...,   1.26929000e+02\n",
      "    1.27570000e+02  -7.15000000e-01]\n",
      " ..., \n",
      " [  1.31839000e+02   1.31778000e+02   7.50000000e-02 ...,   1.31617000e+02\n",
      "    1.31941000e+02   9.50000000e-02]\n",
      " [  1.31824000e+02   1.31779000e+02   1.00000000e-01 ...,   1.31614000e+02\n",
      "    1.31954000e+02   9.50000000e-02]\n",
      " [  1.31873000e+02   1.31779000e+02   1.50000000e-01 ...,   1.31640000e+02\n",
      "    1.31868000e+02   9.50000000e-02]]\n"
     ]
    }
   ],
   "source": [
    "print(data.shape)\n",
    "print(data[:,:])\n"
   ]
  },
  {
   "cell_type": "code",
   "execution_count": 263,
   "metadata": {
    "collapsed": true
   },
   "outputs": [],
   "source": [
    "fv = data[:,-1]"
   ]
  },
  {
   "cell_type": "code",
   "execution_count": 264,
   "metadata": {},
   "outputs": [
    {
     "data": {
      "text/plain": [
       "array([-0.775, -0.745, -0.715, ...,  0.095,  0.095,  0.095])"
      ]
     },
     "execution_count": 264,
     "metadata": {},
     "output_type": "execute_result"
    }
   ],
   "source": [
    "fv"
   ]
  },
  {
   "cell_type": "code",
   "execution_count": 265,
   "metadata": {},
   "outputs": [
    {
     "name": "stderr",
     "output_type": "stream",
     "text": [
      "C:\\Users\\Jatin\\Anaconda2\\lib\\site-packages\\ipykernel_launcher.py:1: FutureWarning: pd.rolling_mean is deprecated for ndarrays and will be removed in a future version\n",
      "  \"\"\"Entry point for launching an IPython kernel.\n",
      "C:\\Users\\Jatin\\Anaconda2\\lib\\site-packages\\ipykernel_launcher.py:2: FutureWarning: pd.rolling_mean is deprecated for ndarrays and will be removed in a future version\n",
      "  \n"
     ]
    }
   ],
   "source": [
    "n = pd.rolling_mean(data[:,2],5)\n",
    "ma30 = pd.rolling_mean(data[:,2],30)"
   ]
  },
  {
   "cell_type": "code",
   "execution_count": 266,
   "metadata": {},
   "outputs": [],
   "source": [
    "n[0:5] =data[0:5,2]\n",
    "ma30[0:30] =data[0:30,2]"
   ]
  },
  {
   "cell_type": "code",
   "execution_count": 267,
   "metadata": {
    "collapsed": true
   },
   "outputs": [],
   "source": [
    "X = np.vstack((n,ma30,data[:,2]))"
   ]
  },
  {
   "cell_type": "code",
   "execution_count": 268,
   "metadata": {},
   "outputs": [
    {
     "data": {
      "text/plain": [
       "(3L, 8742L)"
      ]
     },
     "execution_count": 268,
     "metadata": {},
     "output_type": "execute_result"
    }
   ],
   "source": [
    "X.shape"
   ]
  },
  {
   "cell_type": "code",
   "execution_count": 269,
   "metadata": {},
   "outputs": [
    {
     "name": "stdout",
     "output_type": "stream",
     "text": [
      "(8742L, 3L)\n",
      "(8742L,)\n"
     ]
    }
   ],
   "source": [
    "X = np.transpose(X)\n",
    "print(X.shape)\n",
    "print(fv.shape)"
   ]
  },
  {
   "cell_type": "code",
   "execution_count": 270,
   "metadata": {},
   "outputs": [
    {
     "data": {
      "text/plain": [
       "(8742L, 3L)"
      ]
     },
     "execution_count": 270,
     "metadata": {},
     "output_type": "execute_result"
    }
   ],
   "source": [
    "X.shape"
   ]
  },
  {
   "cell_type": "code",
   "execution_count": 271,
   "metadata": {},
   "outputs": [
    {
     "name": "stdout",
     "output_type": "stream",
     "text": [
      "Coefficients: \n",
      " [ 0.35718665  0.17935501  0.45138591]\n"
     ]
    }
   ],
   "source": [
    "regr = linear_model.LinearRegression()\n",
    "\n",
    "# Train the model using the training sets\n",
    "regr.fit(X, fv)\n",
    "\n",
    "# Make predictions using the testing set\n",
    "pred = regr.predict(X)\n",
    "print('Coefficients: \\n', regr.coef_)"
   ]
  },
  {
   "cell_type": "code",
   "execution_count": 272,
   "metadata": {},
   "outputs": [
    {
     "name": "stdout",
     "output_type": "stream",
     "text": [
      "Mean squared error: 0.001531\n",
      "Variance score: 0.96\n"
     ]
    }
   ],
   "source": [
    "print(\"Mean squared error: %.6f\"\n",
    "      % mean_squared_error(fv, pred))\n",
    "# Explained variance score: 1 is perfect prediction\n",
    "print('Variance score: %.2f' % r2_score(fv, pred))"
   ]
  },
  {
   "cell_type": "code",
   "execution_count": 273,
   "metadata": {},
   "outputs": [
    {
     "data": {
      "text/plain": [
       "array([ 0.0272737 ,  0.02876071,  0.04198075,  0.05505133,  0.07020677,\n",
       "        0.07571403,  0.06800125,  0.08315669,  0.07187204,  0.05701553,\n",
       "        0.06681317,  0.09325325,  0.09548757,  0.05969824,  0.08613832,\n",
       "        0.06163363,  0.08286538,  0.06800887,  0.08286538,  0.10945493])"
      ]
     },
     "execution_count": 273,
     "metadata": {},
     "output_type": "execute_result"
    }
   ],
   "source": [
    "pred[-20:]"
   ]
  },
  {
   "cell_type": "code",
   "execution_count": 274,
   "metadata": {},
   "outputs": [
    {
     "data": {
      "text/plain": [
       "array([ 0.07 ,  0.08 ,  0.09 ,  0.09 ,  0.08 ,  0.075,  0.085,  0.09 ,\n",
       "        0.085,  0.095,  0.09 ,  0.085,  0.075,  0.085,  0.095,  0.095,\n",
       "        0.095,  0.095,  0.095,  0.095])"
      ]
     },
     "execution_count": 274,
     "metadata": {},
     "output_type": "execute_result"
    }
   ],
   "source": [
    "fv[-20:]"
   ]
  },
  {
   "cell_type": "code",
   "execution_count": 275,
   "metadata": {},
   "outputs": [
    {
     "name": "stdout",
     "output_type": "stream",
     "text": [
      "Coefficients: \n",
      " -0.00414268823478\n",
      "Coefficients: \n",
      " [ 0.35718665  0.17935501  0.45138591]\n"
     ]
    }
   ],
   "source": [
    "print('Coefficients: \\n', regr.intercept_)\n",
    "print('Coefficients: \\n', regr.coef_)"
   ]
  },
  {
   "cell_type": "code",
   "execution_count": 276,
   "metadata": {},
   "outputs": [
    {
     "data": {
      "text/plain": [
       "array([-0.6915493 , -0.81504024, -0.86443662, ...,  0.07215155,\n",
       "        0.08700807,  0.11359762])"
      ]
     },
     "execution_count": 276,
     "metadata": {},
     "output_type": "execute_result"
    }
   ],
   "source": [
    "np.matmul(X,regr.coef_)"
   ]
  },
  {
   "cell_type": "code",
   "execution_count": null,
   "metadata": {
    "collapsed": true
   },
   "outputs": [],
   "source": []
  }
 ],
 "metadata": {
  "kernelspec": {
   "display_name": "Python 2",
   "language": "python",
   "name": "python2"
  },
  "language_info": {
   "codemirror_mode": {
    "name": "ipython",
    "version": 2
   },
   "file_extension": ".py",
   "mimetype": "text/x-python",
   "name": "python",
   "nbconvert_exporter": "python",
   "pygments_lexer": "ipython2",
   "version": "2.7.13"
  }
 },
 "nbformat": 4,
 "nbformat_minor": 2
}
